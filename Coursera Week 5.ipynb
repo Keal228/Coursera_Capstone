{
    "cells": [
        {
            "cell_type": "code",
            "execution_count": 1,
            "metadata": {},
            "outputs": [
                {
                    "name": "stdout",
                    "output_type": "stream",
                    "text": "Solving environment: done\n\n## Package Plan ##\n\n  environment location: /opt/conda/envs/Python36\n\n  added / updated specs: \n    - folium=0.5.0\n\n\nThe following packages will be downloaded:\n\n    package                    |            build\n    ---------------------------|-----------------\n    vincent-0.4.4              |             py_1          28 KB  conda-forge\n    libgcc-ng-9.3.0            |      h5dbcf3e_17         7.8 MB  conda-forge\n    openssl-1.1.1i             |       h7f98852_0         2.1 MB  conda-forge\n    _libgcc_mutex-0.1          |      conda_forge           3 KB  conda-forge\n    libgomp-9.3.0              |      h5dbcf3e_17         378 KB  conda-forge\n    branca-0.4.2               |     pyhd8ed1ab_0          26 KB  conda-forge\n    altair-4.1.0               |             py_1         614 KB  conda-forge\n    python_abi-3.6             |          1_cp36m           4 KB  conda-forge\n    folium-0.5.0               |             py_0          45 KB  conda-forge\n    _openmp_mutex-4.5          |            1_gnu          22 KB  conda-forge\n    ca-certificates-2020.12.5  |       ha878542_0         137 KB  conda-forge\n    certifi-2020.12.5          |   py36h5fab9bb_1         143 KB  conda-forge\n    ------------------------------------------------------------\n                                           Total:        11.3 MB\n\nThe following NEW packages will be INSTALLED:\n\n    _openmp_mutex:   4.5-1_gnu                conda-forge\n    altair:          4.1.0-py_1               conda-forge\n    branca:          0.4.2-pyhd8ed1ab_0       conda-forge\n    folium:          0.5.0-py_0               conda-forge\n    libgomp:         9.3.0-h5dbcf3e_17        conda-forge\n    python_abi:      3.6-1_cp36m              conda-forge\n    vincent:         0.4.4-py_1               conda-forge\n\nThe following packages will be UPDATED:\n\n    _libgcc_mutex:   0.1-main                             --> 0.1-conda_forge          conda-forge\n    ca-certificates: 2020.10.14-0                         --> 2020.12.5-ha878542_0     conda-forge\n    certifi:         2020.12.5-py36h06a4308_0             --> 2020.12.5-py36h5fab9bb_1 conda-forge\n    libgcc-ng:       8.2.0-hdf63c60_1                     --> 9.3.0-h5dbcf3e_17        conda-forge\n    openssl:         1.1.1i-h27cfd23_0                    --> 1.1.1i-h7f98852_0        conda-forge\n\n\nDownloading and Extracting Packages\nvincent-0.4.4        | 28 KB     | ##################################### | 100% \nlibgcc-ng-9.3.0      | 7.8 MB    | ##################################### | 100% \nopenssl-1.1.1i       | 2.1 MB    | ##################################### | 100% \n_libgcc_mutex-0.1    | 3 KB      | ##################################### | 100% \nlibgomp-9.3.0        | 378 KB    | ##################################### | 100% \nbranca-0.4.2         | 26 KB     | ##################################### | 100% \naltair-4.1.0         | 614 KB    | ##################################### | 100% \npython_abi-3.6       | 4 KB      | ##################################### | 100% \nfolium-0.5.0         | 45 KB     | ##################################### | 100% \n_openmp_mutex-4.5    | 22 KB     | ##################################### | 100% \nca-certificates-2020 | 137 KB    | ##################################### | 100% \ncertifi-2020.12.5    | 143 KB    | ##################################### | 100% \nPreparing transaction: done\nVerifying transaction: done\nExecuting transaction: done\n"
                }
            ],
            "source": "import pandas as pd\nimport numpy as np\nimport json\nimport requests\nfrom pandas.io.json import json_normalize\nfrom sklearn.cluster import KMeans\n\n!conda install -c conda-forge folium=0.5.0 --yes\nimport folium"
        },
        {
            "cell_type": "code",
            "execution_count": 2,
            "metadata": {},
            "outputs": [],
            "source": "# The code was removed by Watson Studio for sharing."
        },
        {
            "cell_type": "code",
            "execution_count": 3,
            "metadata": {},
            "outputs": [],
            "source": "# function that extracts the category of the venue\ndef get_category_type(row):\n    try:\n        categories_list = row['categories']\n    except:\n        categories_list = row['venue.categories']\n        \n    if len(categories_list) == 0:\n        return None\n    else:\n        return categories_list[0]['name']"
        },
        {
            "cell_type": "code",
            "execution_count": 4,
            "metadata": {},
            "outputs": [],
            "source": "sydney_lat = -33.8688\nsyndey_long = 151.2093\n\nmelb_lat = -37.8136\nmelb_long = 144.9631\n\nbne_lat = -27.4698\nbne_long = 153.0251"
        },
        {
            "cell_type": "markdown",
            "metadata": {},
            "source": "<h2>Sydney Dataset</h2>"
        },
        {
            "cell_type": "code",
            "execution_count": 5,
            "metadata": {},
            "outputs": [],
            "source": "search_query = '100'\nradius = 3000\n\nurl = 'https://api.foursquare.com/v2/venues/explore?&client_id={}&client_secret={}&v={}&ll={},{}&radius={}&limit={}'.format(CLIENT_ID, CLIENT_SECRET, VERSION, sydney_lat, syndey_long, radius, LIMIT)\nvenues = requests.get(url).json()"
        },
        {
            "cell_type": "code",
            "execution_count": 6,
            "metadata": {},
            "outputs": [
                {
                    "data": {
                        "text/html": "<div>\n<style scoped>\n    .dataframe tbody tr th:only-of-type {\n        vertical-align: middle;\n    }\n\n    .dataframe tbody tr th {\n        vertical-align: top;\n    }\n\n    .dataframe thead th {\n        text-align: right;\n    }\n</style>\n<table border=\"1\" class=\"dataframe\">\n  <thead>\n    <tr style=\"text-align: right;\">\n      <th></th>\n      <th>name</th>\n      <th>categories</th>\n      <th>lat</th>\n      <th>lng</th>\n      <th>City</th>\n    </tr>\n  </thead>\n  <tbody>\n    <tr>\n      <th>0</th>\n      <td>UNIQLO</td>\n      <td>Clothing Store</td>\n      <td>-33.869744</td>\n      <td>151.208319</td>\n      <td>Sydney</td>\n    </tr>\n    <tr>\n      <th>1</th>\n      <td>Gumption by Coffee Alchemy</td>\n      <td>Coffee Shop</td>\n      <td>-33.869440</td>\n      <td>151.207700</td>\n      <td>Sydney</td>\n    </tr>\n    <tr>\n      <th>2</th>\n      <td>The Strand Arcade</td>\n      <td>Shopping Mall</td>\n      <td>-33.869420</td>\n      <td>151.207630</td>\n      <td>Sydney</td>\n    </tr>\n    <tr>\n      <th>3</th>\n      <td>State Theatre</td>\n      <td>Theater</td>\n      <td>-33.871291</td>\n      <td>151.207049</td>\n      <td>Sydney</td>\n    </tr>\n    <tr>\n      <th>4</th>\n      <td>Haigh's Chocolates</td>\n      <td>Candy Store</td>\n      <td>-33.869207</td>\n      <td>151.207129</td>\n      <td>Sydney</td>\n    </tr>\n  </tbody>\n</table>\n</div>",
                        "text/plain": "                         name      categories        lat         lng    City\n0                      UNIQLO  Clothing Store -33.869744  151.208319  Sydney\n1  Gumption by Coffee Alchemy     Coffee Shop -33.869440  151.207700  Sydney\n2           The Strand Arcade   Shopping Mall -33.869420  151.207630  Sydney\n3               State Theatre         Theater -33.871291  151.207049  Sydney\n4          Haigh's Chocolates     Candy Store -33.869207  151.207129  Sydney"
                    },
                    "execution_count": 6,
                    "metadata": {},
                    "output_type": "execute_result"
                }
            ],
            "source": "venues = requests.get(url).json()[\"response\"]['groups'][0]['items']\n    \nsydney_venues = json_normalize(venues) # flatten JSON\n\n# filter columns\nfiltered_columns = ['venue.name', 'venue.categories', 'venue.location.lat', 'venue.location.lng']\nsydney_venues =sydney_venues.loc[:, filtered_columns]\n\n# filter the category for each row\nsydney_venues['venue.categories'] = sydney_venues.apply(get_category_type, axis=1)\n\n# clean columns\nsydney_venues.columns = [col.split(\".\")[-1] for col in sydney_venues.columns]\n\nsydney_venues['City'] = 'Sydney'\nsydney_venues.head()"
        },
        {
            "cell_type": "markdown",
            "metadata": {},
            "source": "<h2>Melbourne Dataset</h2>"
        },
        {
            "cell_type": "code",
            "execution_count": 7,
            "metadata": {},
            "outputs": [],
            "source": "search_query = '100'\nradius = 3000\n\nurl = 'https://api.foursquare.com/v2/venues/explore?&client_id={}&client_secret={}&v={}&ll={},{}&radius={}&limit={}'.format(CLIENT_ID, CLIENT_SECRET, VERSION, melb_lat, melb_long, radius, LIMIT)\nvenues = requests.get(url).json()"
        },
        {
            "cell_type": "code",
            "execution_count": 8,
            "metadata": {},
            "outputs": [
                {
                    "data": {
                        "text/html": "<div>\n<style scoped>\n    .dataframe tbody tr th:only-of-type {\n        vertical-align: middle;\n    }\n\n    .dataframe tbody tr th {\n        vertical-align: top;\n    }\n\n    .dataframe thead th {\n        text-align: right;\n    }\n</style>\n<table border=\"1\" class=\"dataframe\">\n  <thead>\n    <tr style=\"text-align: right;\">\n      <th></th>\n      <th>name</th>\n      <th>categories</th>\n      <th>lat</th>\n      <th>lng</th>\n      <th>City</th>\n    </tr>\n  </thead>\n  <tbody>\n    <tr>\n      <th>0</th>\n      <td>Tipo 00</td>\n      <td>Italian Restaurant</td>\n      <td>-37.813527</td>\n      <td>144.961978</td>\n      <td>Melbourne</td>\n    </tr>\n    <tr>\n      <th>1</th>\n      <td>Kirk's Wine Bar</td>\n      <td>Wine Bar</td>\n      <td>-37.813661</td>\n      <td>144.961351</td>\n      <td>Melbourne</td>\n    </tr>\n    <tr>\n      <th>2</th>\n      <td>Brother Baba Budan</td>\n      <td>Coffee Shop</td>\n      <td>-37.813445</td>\n      <td>144.962137</td>\n      <td>Melbourne</td>\n    </tr>\n    <tr>\n      <th>3</th>\n      <td>Little Rogue Coffee</td>\n      <td>Coffee Shop</td>\n      <td>-37.810986</td>\n      <td>144.964059</td>\n      <td>Melbourne</td>\n    </tr>\n    <tr>\n      <th>4</th>\n      <td>B'cos Brazil</td>\n      <td>Brazilian Restaurant</td>\n      <td>-37.815486</td>\n      <td>144.963085</td>\n      <td>Melbourne</td>\n    </tr>\n  </tbody>\n</table>\n</div>",
                        "text/plain": "                  name            categories        lat         lng       City\n0              Tipo 00    Italian Restaurant -37.813527  144.961978  Melbourne\n1      Kirk's Wine Bar              Wine Bar -37.813661  144.961351  Melbourne\n2   Brother Baba Budan           Coffee Shop -37.813445  144.962137  Melbourne\n3  Little Rogue Coffee           Coffee Shop -37.810986  144.964059  Melbourne\n4         B'cos Brazil  Brazilian Restaurant -37.815486  144.963085  Melbourne"
                    },
                    "execution_count": 8,
                    "metadata": {},
                    "output_type": "execute_result"
                }
            ],
            "source": "venues = requests.get(url).json()[\"response\"]['groups'][0]['items']\n    \nmelb_venues = json_normalize(venues) # flatten JSON\n\n# filter columns\nfiltered_columns = ['venue.name', 'venue.categories', 'venue.location.lat', 'venue.location.lng']\nmelb_venues =melb_venues.loc[:, filtered_columns]\n\n# filter the category for each row\nmelb_venues['venue.categories'] = melb_venues.apply(get_category_type, axis=1)\n\n# clean columns\nmelb_venues.columns = [col.split(\".\")[-1] for col in melb_venues.columns]\n\nmelb_venues['City'] = 'Melbourne'\nmelb_venues.head()"
        },
        {
            "cell_type": "markdown",
            "metadata": {},
            "source": "<h2>Brisbane Dataset</h2>"
        },
        {
            "cell_type": "code",
            "execution_count": 9,
            "metadata": {},
            "outputs": [],
            "source": "search_query = '100'\nradius = 3000\n\nurl = 'https://api.foursquare.com/v2/venues/explore?&client_id={}&client_secret={}&v={}&ll={},{}&radius={}&limit={}'.format(CLIENT_ID, CLIENT_SECRET, VERSION, bne_lat, bne_long, radius, LIMIT)\nvenues = requests.get(url).json()"
        },
        {
            "cell_type": "code",
            "execution_count": 10,
            "metadata": {},
            "outputs": [
                {
                    "data": {
                        "text/html": "<div>\n<style scoped>\n    .dataframe tbody tr th:only-of-type {\n        vertical-align: middle;\n    }\n\n    .dataframe tbody tr th {\n        vertical-align: top;\n    }\n\n    .dataframe thead th {\n        text-align: right;\n    }\n</style>\n<table border=\"1\" class=\"dataframe\">\n  <thead>\n    <tr style=\"text-align: right;\">\n      <th></th>\n      <th>name</th>\n      <th>categories</th>\n      <th>lat</th>\n      <th>lng</th>\n      <th>City</th>\n    </tr>\n  </thead>\n  <tbody>\n    <tr>\n      <th>0</th>\n      <td>John Mills Himself</td>\n      <td>Coffee Shop</td>\n      <td>-27.471452</td>\n      <td>153.025440</td>\n      <td>Brisbane</td>\n    </tr>\n    <tr>\n      <th>1</th>\n      <td>The Dark Chocolatier by the Noosa Chocolate Fa...</td>\n      <td>Chocolate Shop</td>\n      <td>-27.467830</td>\n      <td>153.025723</td>\n      <td>Brisbane</td>\n    </tr>\n    <tr>\n      <th>2</th>\n      <td>Maru Korean Restaurant</td>\n      <td>Korean Restaurant</td>\n      <td>-27.470260</td>\n      <td>153.026710</td>\n      <td>Brisbane</td>\n    </tr>\n    <tr>\n      <th>3</th>\n      <td>Cartel Coffee</td>\n      <td>Coffee Shop</td>\n      <td>-27.468448</td>\n      <td>153.024845</td>\n      <td>Brisbane</td>\n    </tr>\n    <tr>\n      <th>4</th>\n      <td>W Brisbane</td>\n      <td>Hotel</td>\n      <td>-27.470120</td>\n      <td>153.021970</td>\n      <td>Brisbane</td>\n    </tr>\n  </tbody>\n</table>\n</div>",
                        "text/plain": "                                                name         categories  \\\n0                                 John Mills Himself        Coffee Shop   \n1  The Dark Chocolatier by the Noosa Chocolate Fa...     Chocolate Shop   \n2                             Maru Korean Restaurant  Korean Restaurant   \n3                                      Cartel Coffee        Coffee Shop   \n4                                         W Brisbane              Hotel   \n\n         lat         lng      City  \n0 -27.471452  153.025440  Brisbane  \n1 -27.467830  153.025723  Brisbane  \n2 -27.470260  153.026710  Brisbane  \n3 -27.468448  153.024845  Brisbane  \n4 -27.470120  153.021970  Brisbane  "
                    },
                    "execution_count": 10,
                    "metadata": {},
                    "output_type": "execute_result"
                }
            ],
            "source": "venues = requests.get(url).json()[\"response\"]['groups'][0]['items']\n    \nbne_venues = json_normalize(venues) # flatten JSON\n\n# filter columns\nfiltered_columns = ['venue.name', 'venue.categories', 'venue.location.lat', 'venue.location.lng']\nbne_venues =bne_venues.loc[:, filtered_columns]\n\n# filter the category for each row\nbne_venues['venue.categories'] = bne_venues.apply(get_category_type, axis=1)\n\n# clean columns\nbne_venues.columns = [col.split(\".\")[-1] for col in bne_venues.columns]\n\nbne_venues['City'] = 'Brisbane'\nbne_venues.head()"
        },
        {
            "cell_type": "code",
            "execution_count": 11,
            "metadata": {},
            "outputs": [
                {
                    "data": {
                        "text/html": "<div>\n<style scoped>\n    .dataframe tbody tr th:only-of-type {\n        vertical-align: middle;\n    }\n\n    .dataframe tbody tr th {\n        vertical-align: top;\n    }\n\n    .dataframe thead th {\n        text-align: right;\n    }\n</style>\n<table border=\"1\" class=\"dataframe\">\n  <thead>\n    <tr style=\"text-align: right;\">\n      <th></th>\n      <th>name</th>\n      <th>categories</th>\n      <th>lat</th>\n      <th>lng</th>\n      <th>City</th>\n    </tr>\n  </thead>\n  <tbody>\n    <tr>\n      <th>0</th>\n      <td>UNIQLO</td>\n      <td>Clothing Store</td>\n      <td>-33.869744</td>\n      <td>151.208319</td>\n      <td>Sydney</td>\n    </tr>\n    <tr>\n      <th>1</th>\n      <td>Gumption by Coffee Alchemy</td>\n      <td>Coffee Shop</td>\n      <td>-33.869440</td>\n      <td>151.207700</td>\n      <td>Sydney</td>\n    </tr>\n    <tr>\n      <th>2</th>\n      <td>The Strand Arcade</td>\n      <td>Shopping Mall</td>\n      <td>-33.869420</td>\n      <td>151.207630</td>\n      <td>Sydney</td>\n    </tr>\n    <tr>\n      <th>3</th>\n      <td>State Theatre</td>\n      <td>Theater</td>\n      <td>-33.871291</td>\n      <td>151.207049</td>\n      <td>Sydney</td>\n    </tr>\n    <tr>\n      <th>4</th>\n      <td>Haigh's Chocolates</td>\n      <td>Candy Store</td>\n      <td>-33.869207</td>\n      <td>151.207129</td>\n      <td>Sydney</td>\n    </tr>\n  </tbody>\n</table>\n</div>",
                        "text/plain": "                         name      categories        lat         lng    City\n0                      UNIQLO  Clothing Store -33.869744  151.208319  Sydney\n1  Gumption by Coffee Alchemy     Coffee Shop -33.869440  151.207700  Sydney\n2           The Strand Arcade   Shopping Mall -33.869420  151.207630  Sydney\n3               State Theatre         Theater -33.871291  151.207049  Sydney\n4          Haigh's Chocolates     Candy Store -33.869207  151.207129  Sydney"
                    },
                    "execution_count": 11,
                    "metadata": {},
                    "output_type": "execute_result"
                }
            ],
            "source": "all_venues = sydney_venues\nall_venues = all_venues.append(melb_venues)\nall_venues = all_venues.append(bne_venues)\nall_venues.head()"
        },
        {
            "cell_type": "code",
            "execution_count": 12,
            "metadata": {},
            "outputs": [
                {
                    "data": {
                        "text/html": "<div>\n<style scoped>\n    .dataframe tbody tr th:only-of-type {\n        vertical-align: middle;\n    }\n\n    .dataframe tbody tr th {\n        vertical-align: top;\n    }\n\n    .dataframe thead th {\n        text-align: right;\n    }\n</style>\n<table border=\"1\" class=\"dataframe\">\n  <thead>\n    <tr style=\"text-align: right;\">\n      <th></th>\n      <th>City</th>\n      <th>Argentinian Restaurant</th>\n      <th>Art Gallery</th>\n      <th>Art Museum</th>\n      <th>Asian Restaurant</th>\n      <th>Athletics &amp; Sports</th>\n      <th>Australian Restaurant</th>\n      <th>BBQ Joint</th>\n      <th>Bakery</th>\n      <th>Bar</th>\n      <th>...</th>\n      <th>Tapas Restaurant</th>\n      <th>Tea Room</th>\n      <th>Thai Restaurant</th>\n      <th>Theater</th>\n      <th>Theme Park Ride / Attraction</th>\n      <th>Tour Provider</th>\n      <th>Trail</th>\n      <th>Vegetarian / Vegan Restaurant</th>\n      <th>Whisky Bar</th>\n      <th>Wine Bar</th>\n    </tr>\n  </thead>\n  <tbody>\n    <tr>\n      <th>0</th>\n      <td>Sydney</td>\n      <td>0</td>\n      <td>0</td>\n      <td>0</td>\n      <td>0</td>\n      <td>0</td>\n      <td>0</td>\n      <td>0</td>\n      <td>0</td>\n      <td>0</td>\n      <td>...</td>\n      <td>0</td>\n      <td>0</td>\n      <td>0</td>\n      <td>0</td>\n      <td>0</td>\n      <td>0</td>\n      <td>0</td>\n      <td>0</td>\n      <td>0</td>\n      <td>0</td>\n    </tr>\n    <tr>\n      <th>1</th>\n      <td>Sydney</td>\n      <td>0</td>\n      <td>0</td>\n      <td>0</td>\n      <td>0</td>\n      <td>0</td>\n      <td>0</td>\n      <td>0</td>\n      <td>0</td>\n      <td>0</td>\n      <td>...</td>\n      <td>0</td>\n      <td>0</td>\n      <td>0</td>\n      <td>0</td>\n      <td>0</td>\n      <td>0</td>\n      <td>0</td>\n      <td>0</td>\n      <td>0</td>\n      <td>0</td>\n    </tr>\n    <tr>\n      <th>2</th>\n      <td>Sydney</td>\n      <td>0</td>\n      <td>0</td>\n      <td>0</td>\n      <td>0</td>\n      <td>0</td>\n      <td>0</td>\n      <td>0</td>\n      <td>0</td>\n      <td>0</td>\n      <td>...</td>\n      <td>0</td>\n      <td>0</td>\n      <td>0</td>\n      <td>0</td>\n      <td>0</td>\n      <td>0</td>\n      <td>0</td>\n      <td>0</td>\n      <td>0</td>\n      <td>0</td>\n    </tr>\n    <tr>\n      <th>3</th>\n      <td>Sydney</td>\n      <td>0</td>\n      <td>0</td>\n      <td>0</td>\n      <td>0</td>\n      <td>0</td>\n      <td>0</td>\n      <td>0</td>\n      <td>0</td>\n      <td>0</td>\n      <td>...</td>\n      <td>0</td>\n      <td>0</td>\n      <td>0</td>\n      <td>1</td>\n      <td>0</td>\n      <td>0</td>\n      <td>0</td>\n      <td>0</td>\n      <td>0</td>\n      <td>0</td>\n    </tr>\n    <tr>\n      <th>4</th>\n      <td>Sydney</td>\n      <td>0</td>\n      <td>0</td>\n      <td>0</td>\n      <td>0</td>\n      <td>0</td>\n      <td>0</td>\n      <td>0</td>\n      <td>0</td>\n      <td>0</td>\n      <td>...</td>\n      <td>0</td>\n      <td>0</td>\n      <td>0</td>\n      <td>0</td>\n      <td>0</td>\n      <td>0</td>\n      <td>0</td>\n      <td>0</td>\n      <td>0</td>\n      <td>0</td>\n    </tr>\n  </tbody>\n</table>\n<p>5 rows \u00d7 105 columns</p>\n</div>",
                        "text/plain": "     City  Argentinian Restaurant  Art Gallery  Art Museum  Asian Restaurant  \\\n0  Sydney                       0            0           0                 0   \n1  Sydney                       0            0           0                 0   \n2  Sydney                       0            0           0                 0   \n3  Sydney                       0            0           0                 0   \n4  Sydney                       0            0           0                 0   \n\n   Athletics & Sports  Australian Restaurant  BBQ Joint  Bakery  Bar  ...  \\\n0                   0                      0          0       0    0  ...   \n1                   0                      0          0       0    0  ...   \n2                   0                      0          0       0    0  ...   \n3                   0                      0          0       0    0  ...   \n4                   0                      0          0       0    0  ...   \n\n   Tapas Restaurant  Tea Room  Thai Restaurant  Theater  \\\n0                 0         0                0        0   \n1                 0         0                0        0   \n2                 0         0                0        0   \n3                 0         0                0        1   \n4                 0         0                0        0   \n\n   Theme Park Ride / Attraction  Tour Provider  Trail  \\\n0                             0              0      0   \n1                             0              0      0   \n2                             0              0      0   \n3                             0              0      0   \n4                             0              0      0   \n\n   Vegetarian / Vegan Restaurant  Whisky Bar  Wine Bar  \n0                              0           0         0  \n1                              0           0         0  \n2                              0           0         0  \n3                              0           0         0  \n4                              0           0         0  \n\n[5 rows x 105 columns]"
                    },
                    "execution_count": 12,
                    "metadata": {},
                    "output_type": "execute_result"
                }
            ],
            "source": "all_onehot = pd.get_dummies(all_venues[['categories']], prefix=\"\", prefix_sep=\"\")\nall_onehot['City'] = all_venues['City']\n\nfixed_columns = [all_onehot.columns[-1]] + list(all_onehot.columns[:-1])\nall_onehot = all_onehot[fixed_columns]\n\nall_onehot.head()"
        },
        {
            "cell_type": "code",
            "execution_count": 13,
            "metadata": {},
            "outputs": [
                {
                    "name": "stdout",
                    "output_type": "stream",
                    "text": "----Brisbane----\n                 venue  freq\n0                 Caf\u00e9  0.11\n1                Hotel  0.07\n2                 Park  0.06\n3                  Bar  0.06\n4             Beer Bar  0.05\n5          Coffee Shop  0.03\n6  Japanese Restaurant  0.03\n7               Bakery  0.02\n8         Burger Joint  0.02\n9     Pedestrian Plaza  0.02\n\n\n----Melbourne----\n               venue  freq\n0       Cocktail Bar  0.09\n1        Coffee Shop  0.07\n2                Bar  0.07\n3   Asian Restaurant  0.04\n4               Caf\u00e9  0.04\n5       Dessert Shop  0.04\n6  Korean Restaurant  0.03\n7              Plaza  0.03\n8           Wine Bar  0.02\n9          Bookstore  0.02\n\n\n----Sydney----\n                   venue  freq\n0                   Caf\u00e9  0.10\n1           Cocktail Bar  0.05\n2                  Hotel  0.05\n3        Thai Restaurant  0.05\n4             Restaurant  0.04\n5            Coffee Shop  0.04\n6                   Park  0.04\n7                Theater  0.04\n8     Chinese Restaurant  0.03\n9  Australian Restaurant  0.03\n\n\n"
                }
            ],
            "source": "all_grouped = all_onehot.groupby('City').mean().reset_index()\nall_grouped\n\nnum_top_venues = 10\n\nfor city in all_grouped['City']:\n    print(\"----\"+city+\"----\")\n    temp = all_grouped[all_grouped['City'] == city].T.reset_index()\n    temp.columns = ['venue','freq']\n    temp = temp.iloc[1:]\n    temp['freq'] = temp['freq'].astype(float)\n    temp = temp.round({'freq': 2})\n    print(temp.sort_values('freq', ascending=False).reset_index(drop=True).head(num_top_venues))\n    print('\\n')"
        },
        {
            "cell_type": "code",
            "execution_count": 14,
            "metadata": {},
            "outputs": [
                {
                    "data": {
                        "text/plain": "array([0, 1, 2], dtype=int32)"
                    },
                    "execution_count": 14,
                    "metadata": {},
                    "output_type": "execute_result"
                }
            ],
            "source": "kclusters = 3\n\nall_clustering = all_grouped.drop(\"City\",1)\n\nkmeans = KMeans(n_clusters = kclusters, random_state = 0).fit(all_clustering)\n\nkmeans.labels_[0:10]"
        },
        {
            "cell_type": "code",
            "execution_count": 15,
            "metadata": {},
            "outputs": [
                {
                    "data": {
                        "text/html": "<div>\n<style scoped>\n    .dataframe tbody tr th:only-of-type {\n        vertical-align: middle;\n    }\n\n    .dataframe tbody tr th {\n        vertical-align: top;\n    }\n\n    .dataframe thead th {\n        text-align: right;\n    }\n</style>\n<table border=\"1\" class=\"dataframe\">\n  <thead>\n    <tr style=\"text-align: right;\">\n      <th></th>\n      <th>Cluster Labels</th>\n      <th>City</th>\n      <th>Argentinian Restaurant</th>\n      <th>Art Gallery</th>\n      <th>Art Museum</th>\n      <th>Asian Restaurant</th>\n      <th>Athletics &amp; Sports</th>\n      <th>Australian Restaurant</th>\n      <th>BBQ Joint</th>\n      <th>Bakery</th>\n      <th>...</th>\n      <th>Tapas Restaurant</th>\n      <th>Tea Room</th>\n      <th>Thai Restaurant</th>\n      <th>Theater</th>\n      <th>Theme Park Ride / Attraction</th>\n      <th>Tour Provider</th>\n      <th>Trail</th>\n      <th>Vegetarian / Vegan Restaurant</th>\n      <th>Whisky Bar</th>\n      <th>Wine Bar</th>\n    </tr>\n  </thead>\n  <tbody>\n    <tr>\n      <th>0</th>\n      <td>0</td>\n      <td>Brisbane</td>\n      <td>0.00</td>\n      <td>0.02</td>\n      <td>0.00</td>\n      <td>0.02</td>\n      <td>0.01</td>\n      <td>0.01</td>\n      <td>0.00</td>\n      <td>0.02</td>\n      <td>...</td>\n      <td>0.00</td>\n      <td>0.00</td>\n      <td>0.02</td>\n      <td>0.02</td>\n      <td>0.01</td>\n      <td>0.00</td>\n      <td>0.01</td>\n      <td>0.01</td>\n      <td>0.01</td>\n      <td>0.00</td>\n    </tr>\n    <tr>\n      <th>1</th>\n      <td>1</td>\n      <td>Melbourne</td>\n      <td>0.01</td>\n      <td>0.01</td>\n      <td>0.00</td>\n      <td>0.04</td>\n      <td>0.00</td>\n      <td>0.01</td>\n      <td>0.01</td>\n      <td>0.01</td>\n      <td>...</td>\n      <td>0.00</td>\n      <td>0.01</td>\n      <td>0.01</td>\n      <td>0.01</td>\n      <td>0.00</td>\n      <td>0.00</td>\n      <td>0.00</td>\n      <td>0.00</td>\n      <td>0.02</td>\n      <td>0.02</td>\n    </tr>\n    <tr>\n      <th>2</th>\n      <td>2</td>\n      <td>Sydney</td>\n      <td>0.00</td>\n      <td>0.01</td>\n      <td>0.01</td>\n      <td>0.00</td>\n      <td>0.00</td>\n      <td>0.03</td>\n      <td>0.00</td>\n      <td>0.02</td>\n      <td>...</td>\n      <td>0.01</td>\n      <td>0.00</td>\n      <td>0.05</td>\n      <td>0.04</td>\n      <td>0.00</td>\n      <td>0.01</td>\n      <td>0.01</td>\n      <td>0.00</td>\n      <td>0.02</td>\n      <td>0.00</td>\n    </tr>\n  </tbody>\n</table>\n<p>3 rows \u00d7 106 columns</p>\n</div>",
                        "text/plain": "   Cluster Labels       City  Argentinian Restaurant  Art Gallery  Art Museum  \\\n0               0   Brisbane                    0.00         0.02        0.00   \n1               1  Melbourne                    0.01         0.01        0.00   \n2               2     Sydney                    0.00         0.01        0.01   \n\n   Asian Restaurant  Athletics & Sports  Australian Restaurant  BBQ Joint  \\\n0              0.02                0.01                   0.01       0.00   \n1              0.04                0.00                   0.01       0.01   \n2              0.00                0.00                   0.03       0.00   \n\n   Bakery  ...  Tapas Restaurant  Tea Room  Thai Restaurant  Theater  \\\n0    0.02  ...              0.00      0.00             0.02     0.02   \n1    0.01  ...              0.00      0.01             0.01     0.01   \n2    0.02  ...              0.01      0.00             0.05     0.04   \n\n   Theme Park Ride / Attraction  Tour Provider  Trail  \\\n0                          0.01           0.00   0.01   \n1                          0.00           0.00   0.00   \n2                          0.00           0.01   0.01   \n\n   Vegetarian / Vegan Restaurant  Whisky Bar  Wine Bar  \n0                           0.01        0.01      0.00  \n1                           0.00        0.02      0.02  \n2                           0.00        0.02      0.00  \n\n[3 rows x 106 columns]"
                    },
                    "execution_count": 15,
                    "metadata": {},
                    "output_type": "execute_result"
                }
            ],
            "source": "all_grouped.insert(0, 'Cluster Labels', kmeans.labels_)\nall_grouped.head()"
        },
        {
            "cell_type": "code",
            "execution_count": 16,
            "metadata": {},
            "outputs": [
                {
                    "name": "stdout",
                    "output_type": "stream",
                    "text": "Brisbane to Melbourne\n [[0.         0.17944358]\n [0.17944358 0.        ]] \n\nBrisbane to Sydney\n [[0.         0.12727922]\n [0.12727922 0.        ]] \n\nMelbourne to Sydney\n [[0.         0.16673332]\n [0.16673332 0.        ]] \n\n"
                }
            ],
            "source": "from sklearn.metrics.pairwise import euclidean_distances\n\n#Brisbane to Melbourne\ndists = euclidean_distances(kmeans.cluster_centers_[[0,1]])\nprint(\"Brisbane to Melbourne\\n\", dists,\"\\n\")\n\n#Brisbane to Sydney\ndists = euclidean_distances(kmeans.cluster_centers_[[0,2]])\nprint(\"Brisbane to Sydney\\n\", dists,\"\\n\")\n                                                    \n#Melbourne to Sydney\ndists = euclidean_distances(kmeans.cluster_centers_[[1,2]])\nprint(\"Melbourne to Sydney\\n\",dists,\"\\n\")"
        },
        {
            "cell_type": "code",
            "execution_count": null,
            "metadata": {},
            "outputs": [],
            "source": ""
        }
    ],
    "metadata": {
        "kernelspec": {
            "display_name": "Python 3.6",
            "language": "python",
            "name": "python3"
        },
        "language_info": {
            "codemirror_mode": {
                "name": "ipython",
                "version": 3
            },
            "file_extension": ".py",
            "mimetype": "text/x-python",
            "name": "python",
            "nbconvert_exporter": "python",
            "pygments_lexer": "ipython3",
            "version": "3.6.9"
        }
    },
    "nbformat": 4,
    "nbformat_minor": 1
}